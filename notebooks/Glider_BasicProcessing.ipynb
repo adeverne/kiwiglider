{
 "cells": [
  {
   "cell_type": "markdown",
   "id": "812fa797",
   "metadata": {},
   "source": [
    "# Notebook walkthrough of using the Basic portion of Kiwiglider to process realtime Slocum glider data and create summary pages for delayed mode Slocum glider data"
   ]
  },
  {
   "cell_type": "markdown",
   "id": "d39087e1",
   "metadata": {},
   "source": [
    "# Set up kiwiglider"
   ]
  },
  {
   "cell_type": "markdown",
   "id": "bd35d87c",
   "metadata": {},
   "source": [
    "## C-compiler\n",
    "\n",
    "You will need a C-compiler to use kiwiglider, since it relies on a package called dbdreader. See dbdreader installation suggestions for [Linux](https://github.com/smerckel/dbdreader?tab=readme-ov-file#installation-linux) and [Windows](https://github.com/smerckel/dbdreader?tab=readme-ov-file#installation-on-windows) for information about C-compilers (note that you do not need to install dbdreader itself at this stage)\n",
    "\n",
    "## Environment\n",
    "\n",
    "We recommend creating a separate environment for your work with kiwiglider.\n",
    "\n",
    "1. `conda create -n kiwiglider`\n",
    "1. `conda activate kiwiglider`\n",
    "\n",
    "## Install\n",
    "\n",
    "As of late May 2025, one dependency fails under pip but works with conda. As such, also do `conda install compliance-checker cc-plugin-glider`\n",
    "\n",
    "### Method 1\n",
    "\n",
    "From your new virtual environment, you can now install kiwiglider. The easiest method as of late May 2025 is with\n",
    "\n",
    "`pip install --index-url https://test.pypi.org/simple/ --extra-index-url https://test.pypi.org/simple/ kiwiglider`\n",
    "\n",
    "### Method 2\n",
    "\n",
    "Another method of installation is through git and pip. This will allow you to edit kiwiglider in a local repository. After you have [Git](https://git-scm.com/downloads) installed on your machine: \n",
    "\n",
    "1. Clone kiwiglider to your local machine: `git clone https://github.com/adeverne/kiwiglider`\n",
    "1. Change to parent directory of kiwiglider\n",
    "1. Install kiwiglider with `pip install -e ./kiwiglider`\n",
    "\n",
    "## Notebook\n",
    "\n",
    "To run this notebook, you will also need to `conda install ipykernel`"
   ]
  },
  {
   "cell_type": "markdown",
   "id": "30ed34a4",
   "metadata": {},
   "source": [
    "# Load kiwiglider functions and classes"
   ]
  },
  {
   "cell_type": "code",
   "execution_count": null,
   "id": "de92fbf2",
   "metadata": {},
   "outputs": [],
   "source": [
    "#general imports\n",
    "from os.path import join as join_path\n",
    "from os.path import exists\n",
    "from os import sep,makedirs\n",
    "from shutil import copy\n",
    "import logging\n",
    "#kiwiglider imports\n",
    "from kiwiglider.basic import DeploymentYAML,DeploymentNetCDF"
   ]
  },
  {
   "cell_type": "markdown",
   "id": "cd5e4ba5",
   "metadata": {},
   "source": [
    "# Initialize"
   ]
  },
  {
   "cell_type": "markdown",
   "id": "99b5b9d3",
   "metadata": {},
   "source": [
    "Start the logging package, which will keep us updated during processing"
   ]
  },
  {
   "cell_type": "code",
   "execution_count": null,
   "id": "5816ccd9",
   "metadata": {},
   "outputs": [],
   "source": [
    "logging.basicConfig(level='INFO')"
   ]
  },
  {
   "cell_type": "markdown",
   "id": "fb3610e3",
   "metadata": {},
   "source": [
    "Specify the directory where all the organization's deployments and metadata live. In NIWA's case, and before running this notebook, the main directory is organized with\n",
    "\n",
    "\n",
    "- deployments_NIWA.xlsx\n",
    "- GLD0039\n",
    "    - Raw\n",
    "        - Cache\n",
    "        - *.sbd\n",
    "        - *.tbd\n",
    "        - *.dbd\n",
    "        - *.ebd\n",
    "- GLD0040\n",
    "    - Raw\n",
    "        - Cache\n",
    "        - *.sbd\n",
    "        - *.tbd\n",
    "        - *.dbd\n",
    "        - *.ebd\n",
    "\n",
    "\n",
    "and so on for all deployments"
   ]
  },
  {
   "cell_type": "code",
   "execution_count": null,
   "id": "03c856a9",
   "metadata": {},
   "outputs": [],
   "source": [
    "directory = join_path('C:',sep,'Users','elmerc','OneDrive - NIWA','Documents','SCRATCH')"
   ]
  },
  {
   "cell_type": "markdown",
   "id": "ee902ecc",
   "metadata": {},
   "source": [
    "Specify the deployment name and the summary to add in IOOS GliderDAC NetCDF files"
   ]
  },
  {
   "cell_type": "code",
   "execution_count": null,
   "id": "a9a6299b",
   "metadata": {},
   "outputs": [],
   "source": [
    "deployment_ID = 40\n",
    "deployment = 'GLD{:04d}'.format(deployment_ID)\n",
    "summary = 'Slocum glider dataset gathered as part of the OCOF project at NIWA. This dataset contains physical oceanographic measurements of temperature, conductivity, salinity, density and estimates of depth-average currents.'"
   ]
  },
  {
   "cell_type": "markdown",
   "id": "a8a156f9",
   "metadata": {},
   "source": [
    "# Create YAML file for pyglider ingest"
   ]
  },
  {
   "cell_type": "code",
   "execution_count": null,
   "id": "47a80eef",
   "metadata": {},
   "outputs": [],
   "source": [
    "yml = DeploymentYAML(ID=deployment_ID)\n",
    "yml.construct_yaml(excelsheet=join_path(directory,'deployments_NIWA.xlsx'),metadata={'summary':summary})\n",
    "yml.write_yaml(outname=join_path(directory,deployment,'deployment_metadata.yml'))"
   ]
  },
  {
   "cell_type": "markdown",
   "id": "496559e4",
   "metadata": {},
   "source": [
    "We'll also copy this file into Realtime and Delayed directories. Kiwiglider is set up to ingest YAMLs from the same directory as the processed output files (allowing the user to specify different parameters for realtime and delayed modes), so if you wish to use the same YAML for realtime and delayed data it will need to be copied or you will need to specify it within the initialization of the DeploymentNetCDF class (below)."
   ]
  },
  {
   "cell_type": "code",
   "execution_count": null,
   "id": "dcc944b7",
   "metadata": {},
   "outputs": [],
   "source": [
    "if not exists(join_path(directory,deployment,'Realtime')):\n",
    "    makedirs(join_path(directory,deployment,'Realtime'))\n",
    "copy(join_path(directory,deployment,'deployment_metadata.yml'),join_path(directory,deployment,'Realtime'))\n",
    "if not exists(join_path(directory,deployment,'Delayed')):\n",
    "    makedirs(join_path(directory,deployment,'Delayed'))\n",
    "copy(join_path(directory,deployment,'deployment_metadata.yml'),join_path(directory,deployment,'Delayed'))"
   ]
  },
  {
   "cell_type": "markdown",
   "id": "d4a69405",
   "metadata": {},
   "source": [
    "# Create realtime files (eventually will send to IOOS GliderDAC)"
   ]
  },
  {
   "cell_type": "markdown",
   "id": "c2ce6903",
   "metadata": {},
   "source": [
    "This is the recommended use of kiwiglider basic, since kiwiglider steps contains a more thourough post-processing regiment for delayed mode data.\n",
    "\n",
    "In this notebook, all realtime files are available. However, during normal use, this section will need to be run every time there is new data available."
   ]
  },
  {
   "cell_type": "markdown",
   "id": "bfc08e43",
   "metadata": {},
   "source": [
    "## Initialize"
   ]
  },
  {
   "cell_type": "code",
   "execution_count": null,
   "id": "2d739b1f",
   "metadata": {},
   "outputs": [],
   "source": [
    "realtime = DeploymentNetCDF(main_directory=join_path(directory,deployment),style='Realtime')"
   ]
  },
  {
   "cell_type": "markdown",
   "id": "7a59cf70",
   "metadata": {},
   "source": [
    "## Create L0 (converted timeseries only)"
   ]
  },
  {
   "cell_type": "markdown",
   "id": "45cf240d",
   "metadata": {},
   "source": [
    "While you can create individual profiles here (it is, in fact, the default) we will skip it for faster processing and smaller directory footprint."
   ]
  },
  {
   "cell_type": "code",
   "execution_count": null,
   "id": "ac820869",
   "metadata": {},
   "outputs": [],
   "source": [
    "realtime.make_L0(l0profile_directory=None)"
   ]
  },
  {
   "cell_type": "markdown",
   "id": "20eb9640",
   "metadata": {},
   "source": [
    "## Create L1 (with QARTOD tests)"
   ]
  },
  {
   "cell_type": "code",
   "execution_count": null,
   "id": "621e4a1a",
   "metadata": {},
   "outputs": [],
   "source": [
    "realtime.make_L1()"
   ]
  },
  {
   "cell_type": "markdown",
   "id": "4df54676",
   "metadata": {},
   "source": [
    "## Check IOOS GliderDAC compliance"
   ]
  },
  {
   "cell_type": "code",
   "execution_count": null,
   "id": "e1a12f21",
   "metadata": {},
   "outputs": [],
   "source": [
    "realtime.check_compliance()"
   ]
  },
  {
   "cell_type": "markdown",
   "id": "30af7502",
   "metadata": {},
   "source": [
    "# Create delayed mode summary"
   ]
  },
  {
   "cell_type": "markdown",
   "id": "9bf6da3a",
   "metadata": {},
   "source": [
    "While not recommended for data disemination purposes, using kiwiglider basic represents a \"quick and dirty\" processing path. The main purpose for using kiwiglider basic is to produce a mission summary page, as follows."
   ]
  },
  {
   "cell_type": "markdown",
   "id": "a02b19b8",
   "metadata": {},
   "source": [
    "## Initialize"
   ]
  },
  {
   "cell_type": "code",
   "execution_count": null,
   "id": "1b26d8ec",
   "metadata": {},
   "outputs": [],
   "source": [
    "delayed = DeploymentNetCDF(main_directory=join_path(directory,deployment),style='Delayed')"
   ]
  },
  {
   "cell_type": "markdown",
   "id": "cc9ca37a",
   "metadata": {},
   "source": [
    "## Create L0 (timeseries only)"
   ]
  },
  {
   "cell_type": "markdown",
   "id": "d1406f6f",
   "metadata": {},
   "source": [
    "While you can create individual profiles here (it is, in fact, the default) we will skip it for faster processing and smaller directory footprint."
   ]
  },
  {
   "cell_type": "code",
   "execution_count": null,
   "id": "a2bba8b6",
   "metadata": {},
   "outputs": [],
   "source": [
    "delayed.make_L0(l0profile_directory=None)"
   ]
  },
  {
   "cell_type": "markdown",
   "id": "a2bcd3c8",
   "metadata": {},
   "source": [
    "## Create summary page"
   ]
  },
  {
   "cell_type": "code",
   "execution_count": null,
   "id": "971b8a46",
   "metadata": {},
   "outputs": [],
   "source": [
    "delayed.create_summary(author='Cassandra Elmer')"
   ]
  }
 ],
 "metadata": {
  "kernelspec": {
   "display_name": "Python 3",
   "language": "python",
   "name": "python3"
  },
  "language_info": {
   "codemirror_mode": {
    "name": "ipython",
    "version": 3
   },
   "file_extension": ".py",
   "mimetype": "text/x-python",
   "name": "python",
   "nbconvert_exporter": "python",
   "pygments_lexer": "ipython3",
   "version": "3.13.3"
  }
 },
 "nbformat": 4,
 "nbformat_minor": 5
}
