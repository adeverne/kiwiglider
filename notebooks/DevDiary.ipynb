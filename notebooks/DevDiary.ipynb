{
 "cells": [
  {
   "cell_type": "markdown",
   "metadata": {},
   "source": [
    "# Diary of KiwiGlider package development\n",
    "\n",
    "## August 2024\n",
    "\n",
    "This document is meant to provide future users a window into the thinking that went into the creation of any code existing in this kiwiglider repository. Initial work for this package was done by Cassandra Elmer and Alain de Verneil.\n",
    "\n",
    "The intended structure of this package was brainstormed on a whiteboard and shown below:\n",
    "\n",
    "![test](Whiteboard_Outline.jpg)\n",
    "\n",
    "So, there are two main use functions for this code during Glider deployments:\n",
    "1. Near-real-time. Much of the near-real-time functionality is inherited from the PyGlider package, and ameliorated to be compliant with external standards.\n",
    "2. Delayed-time mode. We hope to make a one-stop shop for the post-processing of SLOCUM glider data as used at NIWA (and hopefully elsewhere, too 😃).\n",
    "\n",
    "We're setting up this package to initially work with an assumed directory structure, hinted by the whiteboard but is as follows:\n",
    "\n",
    "- 📁Deployment Directory\n",
    "    - 📁Raw\n",
    "        - *.[E/D]BD files\n",
    "        - 📁Cache\n",
    "            - CAC files\n",
    "    - 📁Working\n",
    "        - *.npy files\n",
    "        - *.mat files^\n",
    "    - 📁Final\n",
    "        - 📁netCDF\n",
    "        - 📁mat^\n",
    "        - 📁zarr^\n",
    "\n",
    "^ File outputs to be generated will be specificed by user flag.\n",
    "\n",
    "This structure reflects earlier packages, such as the SOCIB and GEOMAR toolboxes that already exist. The main reasons for creating this package are:\n",
    "1. Use open-source python instead of matlab.\n",
    "2. Leverage faster load times of raw data using DBDreader.\n",
    "3. Combine approaches of multiple packages to (inshallah) provide more robust post-processing. In particular, we want to replicate the oxygen processing and flight model functionality provided by the GEOMAR toolbox.\n",
    "4. Intermediate data will be in an xarray object that maintains metadata, allows for easy export to netCDF/Zarr, and can dovetail into the glidertools package."
   ]
  },
  {
   "cell_type": "markdown",
   "metadata": {},
   "source": [
    "#### April 10, 2025\n",
    "\n",
    "Note: added jupyter notebook with post-processing journal.\n",
    "\n"
   ]
  }
 ],
 "metadata": {
  "kernelspec": {
   "display_name": "glidertools",
   "language": "python",
   "name": "python3"
  },
  "language_info": {
   "name": "python",
   "version": "3.12.3"
  }
 },
 "nbformat": 4,
 "nbformat_minor": 2
}
